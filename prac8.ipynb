{
  "nbformat": 4,
  "nbformat_minor": 0,
  "metadata": {
    "colab": {
      "provenance": []
    },
    "kernelspec": {
      "name": "python3",
      "display_name": "Python 3"
    },
    "language_info": {
      "name": "python"
    }
  },
  "cells": [
    {
      "cell_type": "code",
      "execution_count": 1,
      "metadata": {
        "id": "JvZKOSjt-iFz"
      },
      "outputs": [],
      "source": [
        "from tensorflow.keras.datasets import imdb"
      ]
    },
    {
      "cell_type": "code",
      "source": [
        "(x_train, y_train), (x_test, y_test) = imdb.load_data(num_words=10000)"
      ],
      "metadata": {
        "colab": {
          "base_uri": "https://localhost:8080/"
        },
        "id": "F7D6nAIQ-qgG",
        "outputId": "b2130a7a-7b97-41d0-81bb-b15a221020ab"
      },
      "execution_count": 2,
      "outputs": [
        {
          "output_type": "stream",
          "name": "stdout",
          "text": [
            "Downloading data from https://storage.googleapis.com/tensorflow/tf-keras-datasets/imdb.npz\n",
            "17464789/17464789 [==============================] - 0s 0us/step\n"
          ]
        }
      ]
    },
    {
      "cell_type": "code",
      "source": [
        "print(\"Train Shape :\",x_train.shape)\n",
        "print(\"Test Shape :\",x_test.shape)"
      ],
      "metadata": {
        "colab": {
          "base_uri": "https://localhost:8080/"
        },
        "id": "Ta17Z1ky-yjJ",
        "outputId": "36888bc5-b81a-45e0-97af-4940d0f48492"
      },
      "execution_count": 3,
      "outputs": [
        {
          "output_type": "stream",
          "name": "stdout",
          "text": [
            "Train Shape : (25000,)\n",
            "Test Shape : (25000,)\n"
          ]
        }
      ]
    },
    {
      "cell_type": "code",
      "source": [
        " print(x_train[1])"
      ],
      "metadata": {
        "colab": {
          "base_uri": "https://localhost:8080/"
        },
        "id": "f-piUend_Ggy",
        "outputId": "ed0cfbdb-b522-4e0a-ce95-d6226ab8a054"
      },
      "execution_count": 5,
      "outputs": [
        {
          "output_type": "stream",
          "name": "stdout",
          "text": [
            "[1, 194, 1153, 194, 8255, 78, 228, 5, 6, 1463, 4369, 5012, 134, 26, 4, 715, 8, 118, 1634, 14, 394, 20, 13, 119, 954, 189, 102, 5, 207, 110, 3103, 21, 14, 69, 188, 8, 30, 23, 7, 4, 249, 126, 93, 4, 114, 9, 2300, 1523, 5, 647, 4, 116, 9, 35, 8163, 4, 229, 9, 340, 1322, 4, 118, 9, 4, 130, 4901, 19, 4, 1002, 5, 89, 29, 952, 46, 37, 4, 455, 9, 45, 43, 38, 1543, 1905, 398, 4, 1649, 26, 6853, 5, 163, 11, 3215, 2, 4, 1153, 9, 194, 775, 7, 8255, 2, 349, 2637, 148, 605, 2, 8003, 15, 123, 125, 68, 2, 6853, 15, 349, 165, 4362, 98, 5, 4, 228, 9, 43, 2, 1157, 15, 299, 120, 5, 120, 174, 11, 220, 175, 136, 50, 9, 4373, 228, 8255, 5, 2, 656, 245, 2350, 5, 4, 9837, 131, 152, 491, 18, 2, 32, 7464, 1212, 14, 9, 6, 371, 78, 22, 625, 64, 1382, 9, 8, 168, 145, 23, 4, 1690, 15, 16, 4, 1355, 5, 28, 6, 52, 154, 462, 33, 89, 78, 285, 16, 145, 95]\n"
          ]
        }
      ]
    },
    {
      "cell_type": "code",
      "source": [
        "print(y_train[1])"
      ],
      "metadata": {
        "colab": {
          "base_uri": "https://localhost:8080/"
        },
        "id": "McG6GDEC_NXz",
        "outputId": "898cd4d0-1f9b-48f7-bf48-a4463b800b72"
      },
      "execution_count": 6,
      "outputs": [
        {
          "output_type": "stream",
          "name": "stdout",
          "text": [
            "0\n"
          ]
        }
      ]
    },
    {
      "cell_type": "code",
      "source": [
        "vocab=imdb.get_word_index()\n",
        "print(vocab['the'])"
      ],
      "metadata": {
        "colab": {
          "base_uri": "https://localhost:8080/"
        },
        "id": "680Riiup_Upj",
        "outputId": "bd4350f8-40c9-4578-d03d-9af59ef7d7ac"
      },
      "execution_count": 7,
      "outputs": [
        {
          "output_type": "stream",
          "name": "stdout",
          "text": [
            "Downloading data from https://storage.googleapis.com/tensorflow/tf-keras-datasets/imdb_word_index.json\n",
            "1641221/1641221 [==============================] - 0s 0us/step\n",
            "1\n"
          ]
        }
      ]
    },
    {
      "cell_type": "code",
      "source": [
        " class_names=['Negative', 'Positive']"
      ],
      "metadata": {
        "id": "CZz9ExHI_ZfB"
      },
      "execution_count": 8,
      "outputs": []
    },
    {
      "cell_type": "code",
      "source": [
        " reverse_index = dict([(value, key) for (key, value) in vocab.items()])\n"
      ],
      "metadata": {
        "id": "wcdQbvGz_g1X"
      },
      "execution_count": 9,
      "outputs": []
    },
    {
      "cell_type": "code",
      "source": [
        "def decode(review):\n",
        " text=\"\"\n",
        " for i in review:\n",
        "  text=text+reverse_index[i]\n",
        "  text=text+\" \"\n",
        " return text"
      ],
      "metadata": {
        "id": "RpT5msvd_iTY"
      },
      "execution_count": 12,
      "outputs": []
    },
    {
      "cell_type": "code",
      "source": [
        " decode(x_train[1])"
      ],
      "metadata": {
        "colab": {
          "base_uri": "https://localhost:8080/",
          "height": 126
        },
        "id": "Rc9YkpJzAFE0",
        "outputId": "a45cc940-9da7-4b68-feb1-16d5b65d61c5"
      },
      "execution_count": 13,
      "outputs": [
        {
          "output_type": "execute_result",
          "data": {
            "text/plain": [
              "\"the thought solid thought senator do making to is spot nomination assumed while he of jack in where picked as getting on was did hands fact characters to always life thrillers not as me can't in at are br of sure your way of little it strongly random to view of love it so principles of guy it used producer of where it of here icon film of outside to don't all unique some like of direction it if out her imagination below keep of queen he diverse to makes this stretch and of solid it thought begins br senator and budget worthwhile though ok and awaiting for ever better were and diverse for budget look kicked any to of making it out and follows for effects show to show cast this family us scenes more it severe making senator to and finds tv tend to of emerged these thing wants but and an beckinsale cult as it is video do you david see scenery it in few those are of ship for with of wild to one is very work dark they don't do dvd with those them \""
            ],
            "application/vnd.google.colaboratory.intrinsic+json": {
              "type": "string"
            }
          },
          "metadata": {},
          "execution_count": 13
        }
      ]
    },
    {
      "cell_type": "code",
      "source": [
        "def showlen():\n",
        "  print(\"Length of first training sample: \",len(x_train[0]))\n",
        "  print(\"Length of second training sample: \",len(x_train[1]))\n",
        "  print(\"Length of first test sample: \",len(x_test[0]))\n",
        "  print(\"Length of second test sample: \",len(x_test[1]))\n",
        "showlen()"
      ],
      "metadata": {
        "colab": {
          "base_uri": "https://localhost:8080/"
        },
        "id": "b2MQFds4AM2_",
        "outputId": "f12d9480-6301-4aa4-c5a2-a83bbbee3b70"
      },
      "execution_count": 15,
      "outputs": [
        {
          "output_type": "stream",
          "name": "stdout",
          "text": [
            "Length of first training sample:  218\n",
            "Length of second training sample:  189\n",
            "Length of first test sample:  68\n",
            "Length of second test sample:  260\n"
          ]
        }
      ]
    },
    {
      "cell_type": "code",
      "source": [
        " from tensorflow.keras.preprocessing.sequence import pad_sequences"
      ],
      "metadata": {
        "id": "lu7s7GUrA-lx"
      },
      "execution_count": 16,
      "outputs": []
    },
    {
      "cell_type": "code",
      "source": [
        "x_train=pad_sequences(x_train, value=vocab['the'], padding='post', maxlen=256)\n",
        "x_test=pad_sequences(x_test, value=vocab['the'], padding='post', maxlen=256)"
      ],
      "metadata": {
        "id": "Iz8csYVZBBQf"
      },
      "execution_count": 17,
      "outputs": []
    },
    {
      "cell_type": "code",
      "source": [
        " showlen()"
      ],
      "metadata": {
        "colab": {
          "base_uri": "https://localhost:8080/"
        },
        "id": "ojwCpaUsBJI_",
        "outputId": "085bf715-7aec-4cf3-91dd-e8d62f14a408"
      },
      "execution_count": 18,
      "outputs": [
        {
          "output_type": "stream",
          "name": "stdout",
          "text": [
            "Length of first training sample:  256\n",
            "Length of second training sample:  256\n",
            "Length of first test sample:  256\n",
            "Length of second test sample:  256\n"
          ]
        }
      ]
    },
    {
      "cell_type": "code",
      "source": [
        "decode(x_train[1])"
      ],
      "metadata": {
        "colab": {
          "base_uri": "https://localhost:8080/",
          "height": 127
        },
        "id": "WIpP4nx0BRUS",
        "outputId": "bc5e8b63-d8f8-4f0b-8b04-231420b9ebbd"
      },
      "execution_count": 19,
      "outputs": [
        {
          "output_type": "execute_result",
          "data": {
            "text/plain": [
              "\"the thought solid thought senator do making to is spot nomination assumed while he of jack in where picked as getting on was did hands fact characters to always life thrillers not as me can't in at are br of sure your way of little it strongly random to view of love it so principles of guy it used producer of where it of here icon film of outside to don't all unique some like of direction it if out her imagination below keep of queen he diverse to makes this stretch and of solid it thought begins br senator and budget worthwhile though ok and awaiting for ever better were and diverse for budget look kicked any to of making it out and follows for effects show to show cast this family us scenes more it severe making senator to and finds tv tend to of emerged these thing wants but and an beckinsale cult as it is video do you david see scenery it in few those are of ship for with of wild to one is very work dark they don't do dvd with those them the the the the the the the the the the the the the the the the the the the the the the the the the the the the the the the the the the the the the the the the the the the the the the the the the the the the the the the the the the the the the the the the the the the \""
            ],
            "application/vnd.google.colaboratory.intrinsic+json": {
              "type": "string"
            }
          },
          "metadata": {},
          "execution_count": 19
        }
      ]
    },
    {
      "cell_type": "code",
      "source": [
        "from tensorflow.keras.models import Sequential\n",
        "from tensorflow.keras.layers import Dense, Embedding, GlobalAveragePooling1D"
      ],
      "metadata": {
        "id": "E9GL11jCBYXm"
      },
      "execution_count": 20,
      "outputs": []
    },
    {
      "cell_type": "code",
      "source": [
        "model=Sequential()\n",
        "model.add(Embedding(10000,16))\n",
        "model.add(GlobalAveragePooling1D())\n",
        "model.add(Dense(16,activation='relu'))\n",
        "model.add(Dense(1,activation='sigmoid'))\n",
        "model.compile(optimizer='adam', loss='binary_crossentropy',\n",
        " metrics=['accuracy'])\n",
        "model.summary()"
      ],
      "metadata": {
        "colab": {
          "base_uri": "https://localhost:8080/"
        },
        "id": "AMCevfk4BdZe",
        "outputId": "d095e9ca-b5e4-48a6-da10-3c5e0006d562"
      },
      "execution_count": 25,
      "outputs": [
        {
          "output_type": "stream",
          "name": "stdout",
          "text": [
            "Model: \"sequential\"\n",
            "_________________________________________________________________\n",
            " Layer (type)                Output Shape              Param #   \n",
            "=================================================================\n",
            " embedding (Embedding)       (None, None, 16)          160000    \n",
            "                                                                 \n",
            " global_average_pooling1d (  (None, 16)                0         \n",
            " GlobalAveragePooling1D)                                         \n",
            "                                                                 \n",
            " dense (Dense)               (None, 16)                272       \n",
            "                                                                 \n",
            " dense_1 (Dense)             (None, 1)                 17        \n",
            "                                                                 \n",
            "=================================================================\n",
            "Total params: 160289 (626.13 KB)\n",
            "Trainable params: 160289 (626.13 KB)\n",
            "Non-trainable params: 0 (0.00 Byte)\n",
            "_________________________________________________________________\n"
          ]
        }
      ]
    },
    {
      "cell_type": "code",
      "source": [
        "model.fit(x_train, y_train, epochs=4, batch_size=128, verbose=1,\n",
        " validation_data=(x_test, y_test))"
      ],
      "metadata": {
        "colab": {
          "base_uri": "https://localhost:8080/"
        },
        "id": "jxK6Yp3OCS6c",
        "outputId": "60c004e9-c837-4e5b-bcb9-d23ed7ab2bee"
      },
      "execution_count": 27,
      "outputs": [
        {
          "output_type": "stream",
          "name": "stdout",
          "text": [
            "Epoch 1/4\n",
            "196/196 [==============================] - 2s 8ms/step - loss: 0.6632 - accuracy: 0.6856 - val_loss: 0.5922 - val_accuracy: 0.7962\n",
            "Epoch 2/4\n",
            "196/196 [==============================] - 1s 8ms/step - loss: 0.4691 - accuracy: 0.8411 - val_loss: 0.3912 - val_accuracy: 0.8553\n",
            "Epoch 3/4\n",
            "196/196 [==============================] - 1s 7ms/step - loss: 0.3224 - accuracy: 0.8832 - val_loss: 0.3205 - val_accuracy: 0.8725\n",
            "Epoch 4/4\n",
            "196/196 [==============================] - 1s 6ms/step - loss: 0.2626 - accuracy: 0.9022 - val_loss: 0.2954 - val_accuracy: 0.8802\n"
          ]
        },
        {
          "output_type": "execute_result",
          "data": {
            "text/plain": [
              "<keras.src.callbacks.History at 0x7b3128aa71c0>"
            ]
          },
          "metadata": {},
          "execution_count": 27
        }
      ]
    },
    {
      "cell_type": "code",
      "source": [
        " x_test[10]"
      ],
      "metadata": {
        "colab": {
          "base_uri": "https://localhost:8080/"
        },
        "id": "g2-P-ltvCep5",
        "outputId": "559e64a6-6bf7-4476-b48b-a8f8b1079047"
      },
      "execution_count": 28,
      "outputs": [
        {
          "output_type": "execute_result",
          "data": {
            "text/plain": [
              "array([   1, 1581,   34, 7908, 5082,   23,    6, 1374, 1120,    7,  107,\n",
              "        349,    2, 1496,   11, 5116,   18,  397, 3767,    7,    4,  107,\n",
              "         84, 6763,   56,   68,  456, 1402,    2,   39,    4, 1374,    9,\n",
              "         35,  204,    5,   55, 4412,  212,  193,   23,    4,  326,   45,\n",
              "          6, 1109,    8, 1738,    2,   15,   29,  199, 1040,    5, 2684,\n",
              "         11,   14, 1403,  212, 1528,   10,   10, 2160,    2,    9,    4,\n",
              "        452,   37,    2,    4,  598,  425,    5,   45, 4394,  138,   59,\n",
              "        214,  467,    4, 2391,    7, 1738,    2,   19,   41, 2455, 3028,\n",
              "          5, 6866, 1489,   90,  180,   18,  101, 1403,    2, 1514, 5257,\n",
              "          9,    4,  564,  871,  322,   47, 2586,   27,  274,  326,    5,\n",
              "          9,  150,  112,    2,   17,    6,   87,  162, 2133,   60, 3256,\n",
              "         23,    4, 7999,  123,    8,   11,    2,   29,  144,   30, 2961,\n",
              "       1346,    2,  214,    4,  326,    7,    2, 1496,    8, 3767,  533,\n",
              "          7,  134,    2, 6229,   10,   10,    7,  265,  285,    5,  233,\n",
              "         70,  593,   54,  564, 4124,    2, 1625,   27, 1546,    2,   19,\n",
              "          2, 1008,   18,   89,    4,  114, 3209,    5,   45, 1139,   32,\n",
              "          4,   96,  143, 3760,  958,    7,  919,    5, 7611,  367,    4,\n",
              "         96,   17,   73,   17,    6,   52,  855,    7,  836,   10,   10,\n",
              "         18,    2,    7,  328,  212,   14,   31,    9, 5523,    8,  591,\n",
              "          1,    1,    1,    1,    1,    1,    1,    1,    1,    1,    1,\n",
              "          1,    1,    1,    1,    1,    1,    1,    1,    1,    1,    1,\n",
              "          1,    1,    1,    1,    1,    1,    1,    1,    1,    1,    1,\n",
              "          1,    1,    1,    1,    1,    1,    1,    1,    1,    1,    1,\n",
              "          1,    1,    1], dtype=int32)"
            ]
          },
          "metadata": {},
          "execution_count": 28
        }
      ]
    },
    {
      "cell_type": "code",
      "source": [
        " y_test[10]"
      ],
      "metadata": {
        "colab": {
          "base_uri": "https://localhost:8080/"
        },
        "id": "56zK-jEiCkiw",
        "outputId": "3e8cd8c8-638c-4ce2-e33e-a8ea9408669b"
      },
      "execution_count": 29,
      "outputs": [
        {
          "output_type": "execute_result",
          "data": {
            "text/plain": [
              "1"
            ]
          },
          "metadata": {},
          "execution_count": 29
        }
      ]
    },
    {
      "cell_type": "code",
      "source": [
        "import numpy as np\n",
        "predicted_value=model.predict(np.expand_dims(x_test[10], 0))\n",
        "print(predicted_value)\n",
        "if predicted_value>0.5:\n",
        " final_value=1\n",
        "else:\n",
        " final_value=0\n",
        "print(final_value)\n",
        "print(class_names[final_value])\n"
      ],
      "metadata": {
        "colab": {
          "base_uri": "https://localhost:8080/"
        },
        "id": "MZTjlrOnCpRP",
        "outputId": "873248fd-63dc-45df-b336-7cb2752ecf2e"
      },
      "execution_count": 31,
      "outputs": [
        {
          "output_type": "stream",
          "name": "stdout",
          "text": [
            "1/1 [==============================] - 0s 80ms/step\n",
            "[[0.83695024]]\n",
            "1\n",
            "Positive\n"
          ]
        }
      ]
    },
    {
      "cell_type": "code",
      "source": [
        " loss, accuracy = model.evaluate(x_test, y_test)\n",
        "print(\"Loss :\",loss)\n",
        "print(\"Accuracy (Test Data) :\",accuracy*100)"
      ],
      "metadata": {
        "colab": {
          "base_uri": "https://localhost:8080/"
        },
        "id": "tLQzWtjKC4Pi",
        "outputId": "e7b858cf-e79e-4674-9428-529a7e88826e"
      },
      "execution_count": 32,
      "outputs": [
        {
          "output_type": "stream",
          "name": "stdout",
          "text": [
            "782/782 [==============================] - 1s 1ms/step - loss: 0.2954 - accuracy: 0.8802\n",
            "Loss : 0.29540207982063293\n",
            "Accuracy (Test Data) : 88.02000284194946\n"
          ]
        }
      ]
    }
  ]
}