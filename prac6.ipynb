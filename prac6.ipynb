{
  "nbformat": 4,
  "nbformat_minor": 0,
  "metadata": {
    "colab": {
      "provenance": []
    },
    "kernelspec": {
      "name": "python3",
      "display_name": "Python 3"
    },
    "language_info": {
      "name": "python"
    }
  },
  "cells": [
    {
      "cell_type": "code",
      "execution_count": 1,
      "metadata": {
        "id": "8wqmHZSAzIlu"
      },
      "outputs": [],
      "source": [
        "import tensorflow as tf\n",
        "from tensorflow.keras.datasets import boston_housing\n",
        "from sklearn import preprocessing"
      ]
    },
    {
      "cell_type": "code",
      "source": [
        "(train_x, train_y),(test_x, test_y)=boston_housing.load_data()"
      ],
      "metadata": {
        "colab": {
          "base_uri": "https://localhost:8080/"
        },
        "id": "hEQMKiHqzP8Q",
        "outputId": "a9760535-7fa3-487d-91f2-3b65be9fd522"
      },
      "execution_count": 2,
      "outputs": [
        {
          "output_type": "stream",
          "name": "stdout",
          "text": [
            "Downloading data from https://storage.googleapis.com/tensorflow/tf-keras-datasets/boston_housing.npz\n",
            "57026/57026 [==============================] - 0s 1us/step\n"
          ]
        }
      ]
    },
    {
      "cell_type": "code",
      "source": [
        "print(\n",
        "  \"       Train Shape :\", train_x.shape,\n",
        "  \"\\n        Test Shape :\", test_x.shape,\n",
        "  \"\\nActual Train Shape :\", train_y.shape,\n",
        "  \"\\nActual  Test Shape :\", test_y.shape\n",
        ")"
      ],
      "metadata": {
        "colab": {
          "base_uri": "https://localhost:8080/"
        },
        "id": "nMPYK66qzWpx",
        "outputId": "08b0e4eb-ca14-4fdc-d18c-f8eabaf3df80"
      },
      "execution_count": 3,
      "outputs": [
        {
          "output_type": "stream",
          "name": "stdout",
          "text": [
            "       Train Shape : (404, 13) \n",
            "        Test Shape : (102, 13) \n",
            "Actual Train Shape : (404,) \n",
            "Actual  Test Shape : (102,)\n"
          ]
        }
      ]
    },
    {
      "cell_type": "code",
      "source": [
        "print(train_x[0], train_y[0], sep=\"\\n\")"
      ],
      "metadata": {
        "colab": {
          "base_uri": "https://localhost:8080/"
        },
        "id": "dTp0mB_KzfOm",
        "outputId": "ae8ad769-9f8e-404c-bc2b-4a0959ffaaba"
      },
      "execution_count": 4,
      "outputs": [
        {
          "output_type": "stream",
          "name": "stdout",
          "text": [
            "[  1.23247   0.        8.14      0.        0.538     6.142    91.7\n",
            "   3.9769    4.      307.       21.      396.9      18.72   ]\n",
            "15.2\n"
          ]
        }
      ]
    },
    {
      "cell_type": "code",
      "source": [
        "train_x=preprocessing.normalize(train_x)\n",
        "test_x=preprocessing.normalize(test_x)"
      ],
      "metadata": {
        "id": "TGDP80-GzkdD"
      },
      "execution_count": 5,
      "outputs": []
    },
    {
      "cell_type": "code",
      "source": [
        "print(train_x[0], train_y[0], sep=\"\\n\")"
      ],
      "metadata": {
        "colab": {
          "base_uri": "https://localhost:8080/"
        },
        "id": "59AlSttezmCg",
        "outputId": "6bc254ab-9c0d-47ff-9651-88dadb4eaaa7"
      },
      "execution_count": 6,
      "outputs": [
        {
          "output_type": "stream",
          "name": "stdout",
          "text": [
            "[0.0024119  0.         0.01592969 0.         0.00105285 0.01201967\n",
            " 0.17945359 0.00778265 0.00782786 0.6007879  0.04109624 0.77671895\n",
            " 0.03663436]\n",
            "15.2\n"
          ]
        }
      ]
    },
    {
      "cell_type": "code",
      "source": [
        "from tensorflow.keras.models import Sequential\n",
        "from tensorflow.keras.layers import *"
      ],
      "metadata": {
        "id": "W4d5l7R7zuWz"
      },
      "execution_count": 7,
      "outputs": []
    },
    {
      "cell_type": "code",
      "source": [
        "model = Sequential([\n",
        "  Dense(128, activation='relu', input_shape=(train_x[0].shape)),\n",
        "  Dense(64, activation='relu'),\n",
        "  Dense(32, activation='relu'),\n",
        "  Dense(1)\n",
        "])\n",
        "model.compile(\n",
        "  optimizer='rmsprop',\n",
        "  loss='mse',\n",
        "  metrics=['mae']\n",
        ")"
      ],
      "metadata": {
        "id": "rlDtUNsNz0Yy"
      },
      "execution_count": 8,
      "outputs": []
    },
    {
      "cell_type": "code",
      "source": [
        "history = model.fit(\n",
        "  x=train_x, y=train_y,\n",
        "  epochs=100, batch_size=1,\n",
        "  verbose=1,\n",
        "  validation_data=(test_x, test_y)\n",
        ")"
      ],
      "metadata": {
        "colab": {
          "base_uri": "https://localhost:8080/"
        },
        "id": "uaAEK78Vz6xB",
        "outputId": "9bd84286-de1f-4f9c-c85a-55f19adce424"
      },
      "execution_count": 9,
      "outputs": [
        {
          "output_type": "stream",
          "name": "stdout",
          "text": [
            "Epoch 1/100\n",
            "404/404 [==============================] - 2s 4ms/step - loss: 139.9257 - mae: 8.4438 - val_loss: 71.7602 - val_mae: 5.9995\n",
            "Epoch 2/100\n",
            "404/404 [==============================] - 1s 2ms/step - loss: 70.2113 - mae: 5.7726 - val_loss: 66.7435 - val_mae: 5.7662\n",
            "Epoch 3/100\n",
            "404/404 [==============================] - 1s 2ms/step - loss: 62.8971 - mae: 5.5600 - val_loss: 62.4890 - val_mae: 5.6223\n",
            "Epoch 4/100\n",
            "404/404 [==============================] - 1s 2ms/step - loss: 61.0868 - mae: 5.3889 - val_loss: 56.2362 - val_mae: 5.4565\n",
            "Epoch 5/100\n",
            "404/404 [==============================] - 1s 2ms/step - loss: 59.2412 - mae: 5.3857 - val_loss: 57.0423 - val_mae: 5.4019\n",
            "Epoch 6/100\n",
            "404/404 [==============================] - 1s 2ms/step - loss: 57.6375 - mae: 5.2024 - val_loss: 59.0600 - val_mae: 5.4255\n",
            "Epoch 7/100\n",
            "404/404 [==============================] - 1s 2ms/step - loss: 56.4009 - mae: 5.0892 - val_loss: 58.8305 - val_mae: 5.4009\n",
            "Epoch 8/100\n",
            "404/404 [==============================] - 1s 3ms/step - loss: 54.0343 - mae: 5.0202 - val_loss: 60.5844 - val_mae: 5.4448\n",
            "Epoch 9/100\n",
            "404/404 [==============================] - 2s 4ms/step - loss: 52.2399 - mae: 4.8723 - val_loss: 49.4205 - val_mae: 5.2173\n",
            "Epoch 10/100\n",
            "404/404 [==============================] - 1s 2ms/step - loss: 48.7057 - mae: 4.8548 - val_loss: 47.6095 - val_mae: 4.9697\n",
            "Epoch 11/100\n",
            "404/404 [==============================] - 1s 2ms/step - loss: 49.4738 - mae: 4.7058 - val_loss: 59.9826 - val_mae: 6.2821\n",
            "Epoch 12/100\n",
            "404/404 [==============================] - 1s 2ms/step - loss: 47.6185 - mae: 4.7433 - val_loss: 52.1158 - val_mae: 5.0515\n",
            "Epoch 13/100\n",
            "404/404 [==============================] - 1s 2ms/step - loss: 46.5586 - mae: 4.5408 - val_loss: 47.0669 - val_mae: 4.7946\n",
            "Epoch 14/100\n",
            "404/404 [==============================] - 1s 2ms/step - loss: 44.8403 - mae: 4.5564 - val_loss: 42.4783 - val_mae: 4.7647\n",
            "Epoch 15/100\n",
            "404/404 [==============================] - 1s 2ms/step - loss: 43.3067 - mae: 4.4110 - val_loss: 39.5540 - val_mae: 4.3763\n",
            "Epoch 16/100\n",
            "404/404 [==============================] - 1s 2ms/step - loss: 40.9260 - mae: 4.4044 - val_loss: 38.2833 - val_mae: 4.3758\n",
            "Epoch 17/100\n",
            "404/404 [==============================] - 1s 2ms/step - loss: 40.1542 - mae: 4.3087 - val_loss: 37.4285 - val_mae: 4.2556\n",
            "Epoch 18/100\n",
            "404/404 [==============================] - 1s 2ms/step - loss: 39.4503 - mae: 4.3375 - val_loss: 44.8130 - val_mae: 4.6669\n",
            "Epoch 19/100\n",
            "404/404 [==============================] - 1s 2ms/step - loss: 37.1026 - mae: 4.1694 - val_loss: 40.7109 - val_mae: 4.4117\n",
            "Epoch 20/100\n",
            "404/404 [==============================] - 1s 2ms/step - loss: 37.0382 - mae: 4.1977 - val_loss: 32.7880 - val_mae: 3.9762\n",
            "Epoch 21/100\n",
            "404/404 [==============================] - 1s 4ms/step - loss: 35.5142 - mae: 4.2044 - val_loss: 31.1158 - val_mae: 3.9169\n",
            "Epoch 22/100\n",
            "404/404 [==============================] - 1s 3ms/step - loss: 34.0017 - mae: 4.0917 - val_loss: 35.5533 - val_mae: 4.1160\n",
            "Epoch 23/100\n",
            "404/404 [==============================] - 1s 2ms/step - loss: 34.3875 - mae: 4.0641 - val_loss: 32.0699 - val_mae: 3.9346\n",
            "Epoch 24/100\n",
            "404/404 [==============================] - 1s 3ms/step - loss: 33.6592 - mae: 4.0523 - val_loss: 29.8527 - val_mae: 3.8222\n",
            "Epoch 25/100\n",
            "404/404 [==============================] - 1s 4ms/step - loss: 31.5439 - mae: 3.9980 - val_loss: 28.1449 - val_mae: 3.7759\n",
            "Epoch 26/100\n",
            "404/404 [==============================] - 1s 3ms/step - loss: 30.5610 - mae: 3.8888 - val_loss: 34.5850 - val_mae: 4.0407\n",
            "Epoch 27/100\n",
            "404/404 [==============================] - 1s 2ms/step - loss: 29.9098 - mae: 3.9084 - val_loss: 31.4166 - val_mae: 3.9003\n",
            "Epoch 28/100\n",
            "404/404 [==============================] - 1s 2ms/step - loss: 30.7794 - mae: 3.9127 - val_loss: 27.5975 - val_mae: 3.9002\n",
            "Epoch 29/100\n",
            "404/404 [==============================] - 1s 2ms/step - loss: 28.9956 - mae: 3.8724 - val_loss: 26.3241 - val_mae: 3.8075\n",
            "Epoch 30/100\n",
            "404/404 [==============================] - 1s 2ms/step - loss: 28.0803 - mae: 3.7152 - val_loss: 28.7806 - val_mae: 4.1362\n",
            "Epoch 31/100\n",
            "404/404 [==============================] - 1s 2ms/step - loss: 27.6344 - mae: 3.7238 - val_loss: 26.2521 - val_mae: 3.6777\n",
            "Epoch 32/100\n",
            "404/404 [==============================] - 1s 3ms/step - loss: 26.6656 - mae: 3.7047 - val_loss: 29.5366 - val_mae: 3.7838\n",
            "Epoch 33/100\n",
            "404/404 [==============================] - 1s 3ms/step - loss: 26.8220 - mae: 3.6193 - val_loss: 27.5226 - val_mae: 3.6776\n",
            "Epoch 34/100\n",
            "404/404 [==============================] - 1s 3ms/step - loss: 25.4183 - mae: 3.6934 - val_loss: 28.3676 - val_mae: 3.7550\n",
            "Epoch 35/100\n",
            "404/404 [==============================] - 1s 2ms/step - loss: 24.7132 - mae: 3.6059 - val_loss: 35.6322 - val_mae: 4.1238\n",
            "Epoch 36/100\n",
            "404/404 [==============================] - 1s 2ms/step - loss: 23.3840 - mae: 3.5052 - val_loss: 25.7658 - val_mae: 3.5956\n",
            "Epoch 37/100\n",
            "404/404 [==============================] - 1s 2ms/step - loss: 24.3825 - mae: 3.5557 - val_loss: 28.0660 - val_mae: 3.7203\n",
            "Epoch 38/100\n",
            "404/404 [==============================] - 1s 3ms/step - loss: 24.6558 - mae: 3.5381 - val_loss: 26.1379 - val_mae: 3.7202\n",
            "Epoch 39/100\n",
            "404/404 [==============================] - 1s 3ms/step - loss: 24.0868 - mae: 3.5470 - val_loss: 25.7800 - val_mae: 3.6086\n",
            "Epoch 40/100\n",
            "404/404 [==============================] - 1s 2ms/step - loss: 22.3559 - mae: 3.4113 - val_loss: 33.3100 - val_mae: 3.9875\n",
            "Epoch 41/100\n",
            "404/404 [==============================] - 1s 3ms/step - loss: 23.3494 - mae: 3.4874 - val_loss: 26.3029 - val_mae: 3.7276\n",
            "Epoch 42/100\n",
            "404/404 [==============================] - 1s 3ms/step - loss: 22.1132 - mae: 3.3669 - val_loss: 41.3488 - val_mae: 4.4136\n",
            "Epoch 43/100\n",
            "404/404 [==============================] - 1s 2ms/step - loss: 21.9260 - mae: 3.3675 - val_loss: 29.0788 - val_mae: 3.8472\n",
            "Epoch 44/100\n",
            "404/404 [==============================] - 1s 3ms/step - loss: 21.5731 - mae: 3.3617 - val_loss: 33.3227 - val_mae: 4.5438\n",
            "Epoch 45/100\n",
            "404/404 [==============================] - 1s 3ms/step - loss: 21.3274 - mae: 3.2690 - val_loss: 34.8267 - val_mae: 4.6476\n",
            "Epoch 46/100\n",
            "404/404 [==============================] - 1s 3ms/step - loss: 21.3262 - mae: 3.3715 - val_loss: 31.2539 - val_mae: 3.9840\n",
            "Epoch 47/100\n",
            "404/404 [==============================] - 1s 2ms/step - loss: 20.6511 - mae: 3.3211 - val_loss: 27.5479 - val_mae: 3.6827\n",
            "Epoch 48/100\n",
            "404/404 [==============================] - 1s 2ms/step - loss: 20.4367 - mae: 3.2178 - val_loss: 32.6067 - val_mae: 3.9603\n",
            "Epoch 49/100\n",
            "404/404 [==============================] - 1s 2ms/step - loss: 19.9001 - mae: 3.2084 - val_loss: 27.5276 - val_mae: 3.8221\n",
            "Epoch 50/100\n",
            "404/404 [==============================] - 1s 2ms/step - loss: 19.2725 - mae: 3.2358 - val_loss: 29.4292 - val_mae: 3.8375\n",
            "Epoch 51/100\n",
            "404/404 [==============================] - 1s 2ms/step - loss: 20.4382 - mae: 3.2575 - val_loss: 27.4301 - val_mae: 3.6606\n",
            "Epoch 52/100\n",
            "404/404 [==============================] - 1s 2ms/step - loss: 20.2959 - mae: 3.2619 - val_loss: 30.5776 - val_mae: 3.8855\n",
            "Epoch 53/100\n",
            "404/404 [==============================] - 1s 2ms/step - loss: 19.8489 - mae: 3.1370 - val_loss: 27.3251 - val_mae: 3.6424\n",
            "Epoch 54/100\n",
            "404/404 [==============================] - 1s 2ms/step - loss: 19.9263 - mae: 3.2023 - val_loss: 28.0798 - val_mae: 3.7191\n",
            "Epoch 55/100\n",
            "404/404 [==============================] - 1s 2ms/step - loss: 19.1481 - mae: 3.1444 - val_loss: 27.3769 - val_mae: 3.6261\n",
            "Epoch 56/100\n",
            "404/404 [==============================] - 1s 2ms/step - loss: 19.8148 - mae: 3.1416 - val_loss: 28.2162 - val_mae: 3.7233\n",
            "Epoch 57/100\n",
            "404/404 [==============================] - 1s 3ms/step - loss: 19.7943 - mae: 3.1913 - val_loss: 34.0669 - val_mae: 4.1251\n",
            "Epoch 58/100\n",
            "404/404 [==============================] - 2s 4ms/step - loss: 20.4443 - mae: 3.2019 - val_loss: 29.3165 - val_mae: 3.7828\n",
            "Epoch 59/100\n",
            "404/404 [==============================] - 1s 2ms/step - loss: 18.8893 - mae: 3.1458 - val_loss: 30.5167 - val_mae: 3.7809\n",
            "Epoch 60/100\n",
            "404/404 [==============================] - 1s 2ms/step - loss: 19.1721 - mae: 3.1800 - val_loss: 30.5125 - val_mae: 3.9396\n",
            "Epoch 61/100\n",
            "404/404 [==============================] - 1s 2ms/step - loss: 18.3137 - mae: 3.0844 - val_loss: 42.2643 - val_mae: 4.5468\n",
            "Epoch 62/100\n",
            "404/404 [==============================] - 1s 2ms/step - loss: 18.4779 - mae: 3.1128 - val_loss: 31.6970 - val_mae: 3.8839\n",
            "Epoch 63/100\n",
            "404/404 [==============================] - 1s 2ms/step - loss: 20.3880 - mae: 3.2058 - val_loss: 30.8856 - val_mae: 3.8456\n",
            "Epoch 64/100\n",
            "404/404 [==============================] - 1s 2ms/step - loss: 19.0583 - mae: 3.0846 - val_loss: 29.0285 - val_mae: 3.7974\n",
            "Epoch 65/100\n",
            "404/404 [==============================] - 1s 2ms/step - loss: 19.1641 - mae: 3.1175 - val_loss: 34.0097 - val_mae: 4.1307\n",
            "Epoch 66/100\n",
            "404/404 [==============================] - 1s 2ms/step - loss: 19.3582 - mae: 3.1031 - val_loss: 27.4993 - val_mae: 3.6792\n",
            "Epoch 67/100\n",
            "404/404 [==============================] - 1s 2ms/step - loss: 18.0397 - mae: 3.1657 - val_loss: 33.5502 - val_mae: 4.0472\n",
            "Epoch 68/100\n",
            "404/404 [==============================] - 1s 2ms/step - loss: 17.9498 - mae: 3.0670 - val_loss: 28.2078 - val_mae: 3.6249\n",
            "Epoch 69/100\n",
            "404/404 [==============================] - 1s 2ms/step - loss: 18.6717 - mae: 3.0837 - val_loss: 28.5315 - val_mae: 3.6034\n",
            "Epoch 70/100\n",
            "404/404 [==============================] - 1s 3ms/step - loss: 18.4773 - mae: 3.0615 - val_loss: 27.4389 - val_mae: 3.5710\n",
            "Epoch 71/100\n",
            "404/404 [==============================] - 1s 3ms/step - loss: 17.5860 - mae: 3.0022 - val_loss: 29.7383 - val_mae: 3.8119\n",
            "Epoch 72/100\n",
            "404/404 [==============================] - 1s 2ms/step - loss: 18.0689 - mae: 3.0598 - val_loss: 46.2933 - val_mae: 5.0171\n",
            "Epoch 73/100\n",
            "404/404 [==============================] - 1s 2ms/step - loss: 19.0288 - mae: 3.0957 - val_loss: 26.5349 - val_mae: 3.5533\n",
            "Epoch 74/100\n",
            "404/404 [==============================] - 1s 2ms/step - loss: 17.5168 - mae: 2.9883 - val_loss: 32.2624 - val_mae: 3.9305\n",
            "Epoch 75/100\n",
            "404/404 [==============================] - 1s 2ms/step - loss: 17.8787 - mae: 3.0317 - val_loss: 28.1524 - val_mae: 3.6230\n",
            "Epoch 76/100\n",
            "404/404 [==============================] - 1s 2ms/step - loss: 18.6944 - mae: 3.0488 - val_loss: 29.2035 - val_mae: 3.6535\n",
            "Epoch 77/100\n",
            "404/404 [==============================] - 1s 2ms/step - loss: 18.0112 - mae: 3.0019 - val_loss: 31.7319 - val_mae: 3.8602\n",
            "Epoch 78/100\n",
            "404/404 [==============================] - 1s 2ms/step - loss: 17.6042 - mae: 3.0232 - val_loss: 33.3578 - val_mae: 3.9627\n",
            "Epoch 79/100\n",
            "404/404 [==============================] - 1s 2ms/step - loss: 16.8564 - mae: 2.8837 - val_loss: 31.5424 - val_mae: 3.8187\n",
            "Epoch 80/100\n",
            "404/404 [==============================] - 1s 2ms/step - loss: 18.3201 - mae: 3.0284 - val_loss: 30.7978 - val_mae: 3.7990\n",
            "Epoch 81/100\n",
            "404/404 [==============================] - 1s 2ms/step - loss: 16.8629 - mae: 2.9464 - val_loss: 33.9368 - val_mae: 4.0804\n",
            "Epoch 82/100\n",
            "404/404 [==============================] - 1s 2ms/step - loss: 17.6495 - mae: 2.9474 - val_loss: 27.4855 - val_mae: 3.6093\n",
            "Epoch 83/100\n",
            "404/404 [==============================] - 1s 3ms/step - loss: 16.0859 - mae: 2.9516 - val_loss: 30.9934 - val_mae: 3.8554\n",
            "Epoch 84/100\n",
            "404/404 [==============================] - 1s 4ms/step - loss: 17.1725 - mae: 2.9533 - val_loss: 30.7529 - val_mae: 3.7361\n",
            "Epoch 85/100\n",
            "404/404 [==============================] - 1s 2ms/step - loss: 16.8184 - mae: 2.8931 - val_loss: 36.8646 - val_mae: 4.0699\n",
            "Epoch 86/100\n",
            "404/404 [==============================] - 1s 2ms/step - loss: 16.1597 - mae: 2.9414 - val_loss: 32.9193 - val_mae: 3.9455\n",
            "Epoch 87/100\n",
            "404/404 [==============================] - 1s 2ms/step - loss: 17.9702 - mae: 3.0427 - val_loss: 29.3855 - val_mae: 3.7426\n",
            "Epoch 88/100\n",
            "404/404 [==============================] - 1s 2ms/step - loss: 15.5095 - mae: 2.8521 - val_loss: 48.0125 - val_mae: 5.3879\n",
            "Epoch 89/100\n",
            "404/404 [==============================] - 1s 2ms/step - loss: 17.7485 - mae: 2.9662 - val_loss: 32.8196 - val_mae: 3.9384\n",
            "Epoch 90/100\n",
            "404/404 [==============================] - 1s 2ms/step - loss: 15.7565 - mae: 2.8749 - val_loss: 32.3493 - val_mae: 3.9117\n",
            "Epoch 91/100\n",
            "404/404 [==============================] - 1s 2ms/step - loss: 17.7162 - mae: 2.9620 - val_loss: 29.4563 - val_mae: 3.7636\n",
            "Epoch 92/100\n",
            "404/404 [==============================] - 1s 2ms/step - loss: 16.3914 - mae: 2.8201 - val_loss: 37.3126 - val_mae: 4.1372\n",
            "Epoch 93/100\n",
            "404/404 [==============================] - 1s 2ms/step - loss: 17.3024 - mae: 2.9339 - val_loss: 31.8936 - val_mae: 3.8297\n",
            "Epoch 94/100\n",
            "404/404 [==============================] - 1s 2ms/step - loss: 16.5680 - mae: 2.9389 - val_loss: 32.4683 - val_mae: 3.8659\n",
            "Epoch 95/100\n",
            "404/404 [==============================] - 1s 2ms/step - loss: 17.0481 - mae: 2.9266 - val_loss: 25.3944 - val_mae: 3.4968\n",
            "Epoch 96/100\n",
            "404/404 [==============================] - 1s 3ms/step - loss: 17.1935 - mae: 2.8966 - val_loss: 34.6026 - val_mae: 3.9894\n",
            "Epoch 97/100\n",
            "404/404 [==============================] - 1s 4ms/step - loss: 16.1595 - mae: 2.8784 - val_loss: 29.4572 - val_mae: 3.8080\n",
            "Epoch 98/100\n",
            "404/404 [==============================] - 1s 2ms/step - loss: 16.1823 - mae: 2.8884 - val_loss: 30.7079 - val_mae: 3.7048\n",
            "Epoch 99/100\n",
            "404/404 [==============================] - 1s 2ms/step - loss: 16.5235 - mae: 2.9006 - val_loss: 30.1748 - val_mae: 3.6975\n",
            "Epoch 100/100\n",
            "404/404 [==============================] - 1s 2ms/step - loss: 16.7445 - mae: 2.8489 - val_loss: 33.3619 - val_mae: 3.9530\n"
          ]
        }
      ]
    },
    {
      "cell_type": "code",
      "source": [
        "test_input=[[\n",
        "  8.65407330e-05,\n",
        "  0.00000000e+00,\n",
        "  1.13392175e-02,\n",
        "  0.00000000e-00,\n",
        "  1.12518247e-03,\n",
        "  1.31897603e-02,\n",
        "  7.53763011e-02,\n",
        "  1.30768051e-02,\n",
        "  1.09241016e-02,\n",
        "  4.89399752e-01,\n",
        "  4.41333705e-02,\n",
        "  8.67155186e-01,\n",
        "  1.75004108e-02\n",
        "]]\n",
        "print(\n",
        "  \"Actual Output : 21.1\",\n",
        "  \"\\nPredicted output :\", model.predict(test_input)\n",
        ")"
      ],
      "metadata": {
        "colab": {
          "base_uri": "https://localhost:8080/"
        },
        "id": "EVkW-hi20Zt4",
        "outputId": "fc51516a-79ea-4340-964e-bf5dd50397dc"
      },
      "execution_count": 10,
      "outputs": [
        {
          "output_type": "stream",
          "name": "stdout",
          "text": [
            "1/1 [==============================] - 0s 161ms/step\n",
            "Actual Output : 21.1 \n",
            "Predicted output : [[24.83031]]\n"
          ]
        }
      ]
    }
  ]
}